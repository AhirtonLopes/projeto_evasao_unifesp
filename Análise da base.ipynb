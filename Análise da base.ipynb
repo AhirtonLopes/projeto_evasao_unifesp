{
 "cells": [
  {
   "cell_type": "code",
   "execution_count": 1,
   "metadata": {
    "collapsed": true
   },
   "outputs": [],
   "source": [
    "import pandas as pd\n",
    "\n",
    "data = pd.read_excel('../bd/BANCO_FINAL.xlsx')"
   ]
  },
  {
   "cell_type": "code",
   "execution_count": 2,
   "metadata": {
    "collapsed": false
   },
   "outputs": [
    {
     "name": "stdout",
     "output_type": "stream",
     "text": [
      "Número total de estudantes: 7156\n",
      "Número de características: 26\n",
      "Número de estudantes em curso: 2137\n",
      "Número de estudantes desistentes: 5019\n",
      "Taxa de desistentes: 29.86%\n"
     ]
    }
   ],
   "source": [
    "# TODO: Calculate number of students\n",
    "n_students = data.shape[0]\n",
    "\n",
    "# TODO: Calculate number of features\n",
    "n_features = len(data.columns[:-2])\n",
    "\n",
    "# TODO: Calculate passing students\n",
    "n_curso = data[data.DESISTENTE == 'SIM'].shape[0]\n",
    "\n",
    "# TODO: Calculate failing students\n",
    "n_desistentes = data[data.DESISTENTE == 'NÃO'].shape[0]\n",
    "\n",
    "# TODO: Calculate graduation rate\n",
    "grad_rate = 1 - n_desistentes/n_students\n",
    "\n",
    "# Print the results\n",
    "print (\"Número total de estudantes: {}\".format(n_students))\n",
    "print (\"Número de características: {}\".format(n_features))\n",
    "print (\"Número de estudantes em curso: {}\".format(n_curso))\n",
    "print (\"Número de estudantes desistentes: {}\".format(n_desistentes))\n",
    "print (\"Taxa de desistentes: {:.2f}%\".format(grad_rate*100))"
   ]
  },
  {
   "cell_type": "code",
   "execution_count": 3,
   "metadata": {
    "collapsed": false
   },
   "outputs": [
    {
     "name": "stdout",
     "output_type": "stream",
     "text": [
      "['INGRESSOCPF', 'CAMPUS', 'ANO', 'DESISTENTE', 'SITUAÇÃO', 'Q1', 'Q2', 'Q3', 'Q4', 'Q5', 'Q6', 'Q7', 'Q8', 'Q9', 'Q10', 'Q11', 'Q12', 'Q13', 'Q14', 'Q15', 'Q16', 'Q17', 'Q18', 'Q19', 'CR', 'renda sm', 'Pessoas que vivem com essa renda', 'renda per']\n"
     ]
    }
   ],
   "source": [
    "print(list(data.columns.values))"
   ]
  },
  {
   "cell_type": "code",
   "execution_count": 4,
   "metadata": {
    "collapsed": false
   },
   "outputs": [
    {
     "name": "stdout",
     "output_type": "stream",
     "text": [
      "Feature columns:\n",
      "['CAMPUS', 'ANO', 'Q1', 'Q2', 'Q3', 'Q4', 'Q5', 'Q6', 'Q7', 'Q8', 'Q9', 'Q10', 'Q11', 'Q12', 'Q13', 'Q14', 'Q15', 'Q16', 'Q17', 'Q18', 'Q19', 'CR', 'renda sm', 'Pessoas que vivem com essa renda', 'renda per']\n",
      "\n",
      "Target column: ['DESISTENTE']\n"
     ]
    }
   ],
   "source": [
    "# Extract feature columns\n",
    "feature_cols = ['CAMPUS', 'ANO', 'Q1', 'Q2', 'Q3', \n",
    "                'Q4', 'Q5', 'Q6', 'Q7', 'Q8', 'Q9',\n",
    "                'Q10', 'Q11', 'Q12', 'Q13', 'Q14',\n",
    "                'Q15', 'Q16', 'Q17', 'Q18', 'Q19',\n",
    "                'CR', 'renda sm',\n",
    "                'Pessoas que vivem com essa renda', 'renda per']\n",
    "\n",
    "# Extract target column 'passed'\n",
    "target_col = ['DESISTENTE']\n",
    "\n",
    "# Show the list of columns\n",
    "print (\"Feature columns:\\n{}\".format(feature_cols))\n",
    "print (\"\\nTarget column: {}\".format(target_col))"
   ]
  },
  {
   "cell_type": "code",
   "execution_count": 5,
   "metadata": {
    "collapsed": true
   },
   "outputs": [],
   "source": [
    "# Separate the data into feature data and target data (X_all and y_all, respectively)\n",
    "X_all = data[feature_cols]\n",
    "y_all = data[target_col]"
   ]
  }
 ],
 "metadata": {
  "kernelspec": {
   "display_name": "Python 3",
   "language": "python",
   "name": "python3"
  },
  "language_info": {
   "codemirror_mode": {
    "name": "ipython",
    "version": 3
   },
   "file_extension": ".py",
   "mimetype": "text/x-python",
   "name": "python",
   "nbconvert_exporter": "python",
   "pygments_lexer": "ipython3",
   "version": "3.5.2"
  }
 },
 "nbformat": 4,
 "nbformat_minor": 1
}
